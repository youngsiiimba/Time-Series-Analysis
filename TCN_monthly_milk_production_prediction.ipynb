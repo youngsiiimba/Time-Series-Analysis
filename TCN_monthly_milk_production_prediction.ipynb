{
  "nbformat": 4,
  "nbformat_minor": 0,
  "metadata": {
    "colab": {
      "name": "TCN-monthly-milk-production-prediction.ipynb",
      "provenance": [],
      "toc_visible": true,
      "include_colab_link": true
    },
    "kernelspec": {
      "name": "python3",
      "display_name": "Python 3"
    },
    "widgets": {
      "application/vnd.jupyter.widget-state+json": {
        "95dfb3abee1249c28e8a0ee81a135fce": {
          "model_module": "@jupyter-widgets/controls",
          "model_name": "HBoxModel",
          "model_module_version": "1.5.0",
          "state": {
            "_dom_classes": [],
            "_model_module": "@jupyter-widgets/controls",
            "_model_module_version": "1.5.0",
            "_model_name": "HBoxModel",
            "_view_count": null,
            "_view_module": "@jupyter-widgets/controls",
            "_view_module_version": "1.5.0",
            "_view_name": "HBoxView",
            "box_style": "",
            "children": [
              "IPY_MODEL_34e86073ed7f46439e6776f3236d7204",
              "IPY_MODEL_5db55609e7bf4491b5018d08a14e88a9",
              "IPY_MODEL_4414e5db0ad54b8182799b6409cd4e5c"
            ],
            "layout": "IPY_MODEL_2d1a261e0cf4464cb4073c1ef574857f"
          }
        },
        "34e86073ed7f46439e6776f3236d7204": {
          "model_module": "@jupyter-widgets/controls",
          "model_name": "HTMLModel",
          "model_module_version": "1.5.0",
          "state": {
            "_dom_classes": [],
            "_model_module": "@jupyter-widgets/controls",
            "_model_module_version": "1.5.0",
            "_model_name": "HTMLModel",
            "_view_count": null,
            "_view_module": "@jupyter-widgets/controls",
            "_view_module_version": "1.5.0",
            "_view_name": "HTMLView",
            "description": "",
            "description_tooltip": null,
            "layout": "IPY_MODEL_fcff4c7aaad44c9cb0ea79b55b746c6e",
            "placeholder": "​",
            "style": "IPY_MODEL_d8c45b2137084263a7d0f3a7351a5291",
            "value": "100%"
          }
        },
        "5db55609e7bf4491b5018d08a14e88a9": {
          "model_module": "@jupyter-widgets/controls",
          "model_name": "FloatProgressModel",
          "model_module_version": "1.5.0",
          "state": {
            "_dom_classes": [],
            "_model_module": "@jupyter-widgets/controls",
            "_model_module_version": "1.5.0",
            "_model_name": "FloatProgressModel",
            "_view_count": null,
            "_view_module": "@jupyter-widgets/controls",
            "_view_module_version": "1.5.0",
            "_view_name": "ProgressView",
            "bar_style": "success",
            "description": "",
            "description_tooltip": null,
            "layout": "IPY_MODEL_10589c336239420fbd0737c0f6195aaf",
            "max": 156,
            "min": 0,
            "orientation": "horizontal",
            "style": "IPY_MODEL_2da508c245504af89ea81f9320667659",
            "value": 156
          }
        },
        "4414e5db0ad54b8182799b6409cd4e5c": {
          "model_module": "@jupyter-widgets/controls",
          "model_name": "HTMLModel",
          "model_module_version": "1.5.0",
          "state": {
            "_dom_classes": [],
            "_model_module": "@jupyter-widgets/controls",
            "_model_module_version": "1.5.0",
            "_model_name": "HTMLModel",
            "_view_count": null,
            "_view_module": "@jupyter-widgets/controls",
            "_view_module_version": "1.5.0",
            "_view_name": "HTMLView",
            "description": "",
            "description_tooltip": null,
            "layout": "IPY_MODEL_385b7480bc2d4e189df3bca07cf32230",
            "placeholder": "​",
            "style": "IPY_MODEL_7ef2cc633b4b46abae9757af788c65df",
            "value": " 156/156 [00:00&lt;00:00, 2133.01it/s]"
          }
        },
        "2d1a261e0cf4464cb4073c1ef574857f": {
          "model_module": "@jupyter-widgets/base",
          "model_name": "LayoutModel",
          "model_module_version": "1.2.0",
          "state": {
            "_model_module": "@jupyter-widgets/base",
            "_model_module_version": "1.2.0",
            "_model_name": "LayoutModel",
            "_view_count": null,
            "_view_module": "@jupyter-widgets/base",
            "_view_module_version": "1.2.0",
            "_view_name": "LayoutView",
            "align_content": null,
            "align_items": null,
            "align_self": null,
            "border": null,
            "bottom": null,
            "display": null,
            "flex": null,
            "flex_flow": null,
            "grid_area": null,
            "grid_auto_columns": null,
            "grid_auto_flow": null,
            "grid_auto_rows": null,
            "grid_column": null,
            "grid_gap": null,
            "grid_row": null,
            "grid_template_areas": null,
            "grid_template_columns": null,
            "grid_template_rows": null,
            "height": null,
            "justify_content": null,
            "justify_items": null,
            "left": null,
            "margin": null,
            "max_height": null,
            "max_width": null,
            "min_height": null,
            "min_width": null,
            "object_fit": null,
            "object_position": null,
            "order": null,
            "overflow": null,
            "overflow_x": null,
            "overflow_y": null,
            "padding": null,
            "right": null,
            "top": null,
            "visibility": null,
            "width": null
          }
        },
        "fcff4c7aaad44c9cb0ea79b55b746c6e": {
          "model_module": "@jupyter-widgets/base",
          "model_name": "LayoutModel",
          "model_module_version": "1.2.0",
          "state": {
            "_model_module": "@jupyter-widgets/base",
            "_model_module_version": "1.2.0",
            "_model_name": "LayoutModel",
            "_view_count": null,
            "_view_module": "@jupyter-widgets/base",
            "_view_module_version": "1.2.0",
            "_view_name": "LayoutView",
            "align_content": null,
            "align_items": null,
            "align_self": null,
            "border": null,
            "bottom": null,
            "display": null,
            "flex": null,
            "flex_flow": null,
            "grid_area": null,
            "grid_auto_columns": null,
            "grid_auto_flow": null,
            "grid_auto_rows": null,
            "grid_column": null,
            "grid_gap": null,
            "grid_row": null,
            "grid_template_areas": null,
            "grid_template_columns": null,
            "grid_template_rows": null,
            "height": null,
            "justify_content": null,
            "justify_items": null,
            "left": null,
            "margin": null,
            "max_height": null,
            "max_width": null,
            "min_height": null,
            "min_width": null,
            "object_fit": null,
            "object_position": null,
            "order": null,
            "overflow": null,
            "overflow_x": null,
            "overflow_y": null,
            "padding": null,
            "right": null,
            "top": null,
            "visibility": null,
            "width": null
          }
        },
        "d8c45b2137084263a7d0f3a7351a5291": {
          "model_module": "@jupyter-widgets/controls",
          "model_name": "DescriptionStyleModel",
          "model_module_version": "1.5.0",
          "state": {
            "_model_module": "@jupyter-widgets/controls",
            "_model_module_version": "1.5.0",
            "_model_name": "DescriptionStyleModel",
            "_view_count": null,
            "_view_module": "@jupyter-widgets/base",
            "_view_module_version": "1.2.0",
            "_view_name": "StyleView",
            "description_width": ""
          }
        },
        "10589c336239420fbd0737c0f6195aaf": {
          "model_module": "@jupyter-widgets/base",
          "model_name": "LayoutModel",
          "model_module_version": "1.2.0",
          "state": {
            "_model_module": "@jupyter-widgets/base",
            "_model_module_version": "1.2.0",
            "_model_name": "LayoutModel",
            "_view_count": null,
            "_view_module": "@jupyter-widgets/base",
            "_view_module_version": "1.2.0",
            "_view_name": "LayoutView",
            "align_content": null,
            "align_items": null,
            "align_self": null,
            "border": null,
            "bottom": null,
            "display": null,
            "flex": null,
            "flex_flow": null,
            "grid_area": null,
            "grid_auto_columns": null,
            "grid_auto_flow": null,
            "grid_auto_rows": null,
            "grid_column": null,
            "grid_gap": null,
            "grid_row": null,
            "grid_template_areas": null,
            "grid_template_columns": null,
            "grid_template_rows": null,
            "height": null,
            "justify_content": null,
            "justify_items": null,
            "left": null,
            "margin": null,
            "max_height": null,
            "max_width": null,
            "min_height": null,
            "min_width": null,
            "object_fit": null,
            "object_position": null,
            "order": null,
            "overflow": null,
            "overflow_x": null,
            "overflow_y": null,
            "padding": null,
            "right": null,
            "top": null,
            "visibility": null,
            "width": null
          }
        },
        "2da508c245504af89ea81f9320667659": {
          "model_module": "@jupyter-widgets/controls",
          "model_name": "ProgressStyleModel",
          "model_module_version": "1.5.0",
          "state": {
            "_model_module": "@jupyter-widgets/controls",
            "_model_module_version": "1.5.0",
            "_model_name": "ProgressStyleModel",
            "_view_count": null,
            "_view_module": "@jupyter-widgets/base",
            "_view_module_version": "1.2.0",
            "_view_name": "StyleView",
            "bar_color": null,
            "description_width": ""
          }
        },
        "385b7480bc2d4e189df3bca07cf32230": {
          "model_module": "@jupyter-widgets/base",
          "model_name": "LayoutModel",
          "model_module_version": "1.2.0",
          "state": {
            "_model_module": "@jupyter-widgets/base",
            "_model_module_version": "1.2.0",
            "_model_name": "LayoutModel",
            "_view_count": null,
            "_view_module": "@jupyter-widgets/base",
            "_view_module_version": "1.2.0",
            "_view_name": "LayoutView",
            "align_content": null,
            "align_items": null,
            "align_self": null,
            "border": null,
            "bottom": null,
            "display": null,
            "flex": null,
            "flex_flow": null,
            "grid_area": null,
            "grid_auto_columns": null,
            "grid_auto_flow": null,
            "grid_auto_rows": null,
            "grid_column": null,
            "grid_gap": null,
            "grid_row": null,
            "grid_template_areas": null,
            "grid_template_columns": null,
            "grid_template_rows": null,
            "height": null,
            "justify_content": null,
            "justify_items": null,
            "left": null,
            "margin": null,
            "max_height": null,
            "max_width": null,
            "min_height": null,
            "min_width": null,
            "object_fit": null,
            "object_position": null,
            "order": null,
            "overflow": null,
            "overflow_x": null,
            "overflow_y": null,
            "padding": null,
            "right": null,
            "top": null,
            "visibility": null,
            "width": null
          }
        },
        "7ef2cc633b4b46abae9757af788c65df": {
          "model_module": "@jupyter-widgets/controls",
          "model_name": "DescriptionStyleModel",
          "model_module_version": "1.5.0",
          "state": {
            "_model_module": "@jupyter-widgets/controls",
            "_model_module_version": "1.5.0",
            "_model_name": "DescriptionStyleModel",
            "_view_count": null,
            "_view_module": "@jupyter-widgets/base",
            "_view_module_version": "1.2.0",
            "_view_name": "StyleView",
            "description_width": ""
          }
        }
      }
    },
    "accelerator": "GPU"
  },
  "cells": [
    {
      "cell_type": "markdown",
      "metadata": {
        "id": "view-in-github",
        "colab_type": "text"
      },
      "source": [
        "<a href=\"https://colab.research.google.com/github/youngsiiimba/Time-Series-Analysis/blob/main/TCN_monthly_milk_production_prediction.ipynb\" target=\"_parent\"><img src=\"https://colab.research.google.com/assets/colab-badge.svg\" alt=\"Open In Colab\"/></a>"
      ]
    },
    {
      "cell_type": "markdown",
      "metadata": {
        "id": "rNmNWqlKa_8E"
      },
      "source": [
        "### Load Library"
      ]
    },
    {
      "cell_type": "code",
      "metadata": {
        "id": "EEq6d7AUa9Wp",
        "colab": {
          "base_uri": "https://localhost:8080/"
        },
        "outputId": "6b19b96e-b8f1-4a25-afda-9a16d2665abc"
      },
      "source": [
        "!pip install wget\n",
        "!pip install keras-tcn\n",
        "import wget\n",
        "import matplotlib.pyplot as plt\n",
        "import numpy as np\n",
        "import pandas as pd\n",
        "from tensorflow.keras import Input, Model\n",
        "from tensorflow.keras.layers import Dense\n",
        "from tqdm.notebook import tqdm\n",
        "\n",
        "from tcn import TCN"
      ],
      "execution_count": 1,
      "outputs": [
        {
          "output_type": "stream",
          "name": "stdout",
          "text": [
            "Looking in indexes: https://pypi.org/simple, https://us-python.pkg.dev/colab-wheels/public/simple/\n",
            "Requirement already satisfied: wget in /usr/local/lib/python3.7/dist-packages (3.2)\n",
            "Looking in indexes: https://pypi.org/simple, https://us-python.pkg.dev/colab-wheels/public/simple/\n",
            "Requirement already satisfied: keras-tcn in /usr/local/lib/python3.7/dist-packages (3.4.4)\n",
            "Requirement already satisfied: tensorflow-addons in /usr/local/lib/python3.7/dist-packages (from keras-tcn) (0.17.0)\n",
            "Requirement already satisfied: numpy in /usr/local/lib/python3.7/dist-packages (from keras-tcn) (1.21.6)\n",
            "Requirement already satisfied: tensorflow in /usr/local/lib/python3.7/dist-packages (from keras-tcn) (2.8.2+zzzcolab20220527125636)\n",
            "Requirement already satisfied: typing-extensions>=3.6.6 in /usr/local/lib/python3.7/dist-packages (from tensorflow->keras-tcn) (4.2.0)\n",
            "Requirement already satisfied: six>=1.12.0 in /usr/local/lib/python3.7/dist-packages (from tensorflow->keras-tcn) (1.15.0)\n",
            "Requirement already satisfied: tensorflow-io-gcs-filesystem>=0.23.1 in /usr/local/lib/python3.7/dist-packages (from tensorflow->keras-tcn) (0.26.0)\n",
            "Requirement already satisfied: flatbuffers>=1.12 in /usr/local/lib/python3.7/dist-packages (from tensorflow->keras-tcn) (2.0)\n",
            "Requirement already satisfied: protobuf<3.20,>=3.9.2 in /usr/local/lib/python3.7/dist-packages (from tensorflow->keras-tcn) (3.17.3)\n",
            "Requirement already satisfied: google-pasta>=0.1.1 in /usr/local/lib/python3.7/dist-packages (from tensorflow->keras-tcn) (0.2.0)\n",
            "Requirement already satisfied: absl-py>=0.4.0 in /usr/local/lib/python3.7/dist-packages (from tensorflow->keras-tcn) (1.0.0)\n",
            "Requirement already satisfied: opt-einsum>=2.3.2 in /usr/local/lib/python3.7/dist-packages (from tensorflow->keras-tcn) (3.3.0)\n",
            "Requirement already satisfied: gast>=0.2.1 in /usr/local/lib/python3.7/dist-packages (from tensorflow->keras-tcn) (0.5.3)\n",
            "Requirement already satisfied: keras<2.9,>=2.8.0rc0 in /usr/local/lib/python3.7/dist-packages (from tensorflow->keras-tcn) (2.8.0)\n",
            "Requirement already satisfied: wrapt>=1.11.0 in /usr/local/lib/python3.7/dist-packages (from tensorflow->keras-tcn) (1.14.1)\n",
            "Requirement already satisfied: libclang>=9.0.1 in /usr/local/lib/python3.7/dist-packages (from tensorflow->keras-tcn) (14.0.1)\n",
            "Requirement already satisfied: termcolor>=1.1.0 in /usr/local/lib/python3.7/dist-packages (from tensorflow->keras-tcn) (1.1.0)\n",
            "Requirement already satisfied: tensorflow-estimator<2.9,>=2.8 in /usr/local/lib/python3.7/dist-packages (from tensorflow->keras-tcn) (2.8.0)\n",
            "Requirement already satisfied: grpcio<2.0,>=1.24.3 in /usr/local/lib/python3.7/dist-packages (from tensorflow->keras-tcn) (1.46.3)\n",
            "Requirement already satisfied: astunparse>=1.6.0 in /usr/local/lib/python3.7/dist-packages (from tensorflow->keras-tcn) (1.6.3)\n",
            "Requirement already satisfied: h5py>=2.9.0 in /usr/local/lib/python3.7/dist-packages (from tensorflow->keras-tcn) (3.1.0)\n",
            "Requirement already satisfied: tensorboard<2.9,>=2.8 in /usr/local/lib/python3.7/dist-packages (from tensorflow->keras-tcn) (2.8.0)\n",
            "Requirement already satisfied: keras-preprocessing>=1.1.1 in /usr/local/lib/python3.7/dist-packages (from tensorflow->keras-tcn) (1.1.2)\n",
            "Requirement already satisfied: setuptools in /usr/local/lib/python3.7/dist-packages (from tensorflow->keras-tcn) (57.4.0)\n",
            "Requirement already satisfied: wheel<1.0,>=0.23.0 in /usr/local/lib/python3.7/dist-packages (from astunparse>=1.6.0->tensorflow->keras-tcn) (0.37.1)\n",
            "Requirement already satisfied: cached-property in /usr/local/lib/python3.7/dist-packages (from h5py>=2.9.0->tensorflow->keras-tcn) (1.5.2)\n",
            "Requirement already satisfied: tensorboard-plugin-wit>=1.6.0 in /usr/local/lib/python3.7/dist-packages (from tensorboard<2.9,>=2.8->tensorflow->keras-tcn) (1.8.1)\n",
            "Requirement already satisfied: markdown>=2.6.8 in /usr/local/lib/python3.7/dist-packages (from tensorboard<2.9,>=2.8->tensorflow->keras-tcn) (3.3.7)\n",
            "Requirement already satisfied: tensorboard-data-server<0.7.0,>=0.6.0 in /usr/local/lib/python3.7/dist-packages (from tensorboard<2.9,>=2.8->tensorflow->keras-tcn) (0.6.1)\n",
            "Requirement already satisfied: werkzeug>=0.11.15 in /usr/local/lib/python3.7/dist-packages (from tensorboard<2.9,>=2.8->tensorflow->keras-tcn) (1.0.1)\n",
            "Requirement already satisfied: google-auth-oauthlib<0.5,>=0.4.1 in /usr/local/lib/python3.7/dist-packages (from tensorboard<2.9,>=2.8->tensorflow->keras-tcn) (0.4.6)\n",
            "Requirement already satisfied: google-auth<3,>=1.6.3 in /usr/local/lib/python3.7/dist-packages (from tensorboard<2.9,>=2.8->tensorflow->keras-tcn) (1.35.0)\n",
            "Requirement already satisfied: requests<3,>=2.21.0 in /usr/local/lib/python3.7/dist-packages (from tensorboard<2.9,>=2.8->tensorflow->keras-tcn) (2.23.0)\n",
            "Requirement already satisfied: rsa<5,>=3.1.4 in /usr/local/lib/python3.7/dist-packages (from google-auth<3,>=1.6.3->tensorboard<2.9,>=2.8->tensorflow->keras-tcn) (4.8)\n",
            "Requirement already satisfied: pyasn1-modules>=0.2.1 in /usr/local/lib/python3.7/dist-packages (from google-auth<3,>=1.6.3->tensorboard<2.9,>=2.8->tensorflow->keras-tcn) (0.2.8)\n",
            "Requirement already satisfied: cachetools<5.0,>=2.0.0 in /usr/local/lib/python3.7/dist-packages (from google-auth<3,>=1.6.3->tensorboard<2.9,>=2.8->tensorflow->keras-tcn) (4.2.4)\n",
            "Requirement already satisfied: requests-oauthlib>=0.7.0 in /usr/local/lib/python3.7/dist-packages (from google-auth-oauthlib<0.5,>=0.4.1->tensorboard<2.9,>=2.8->tensorflow->keras-tcn) (1.3.1)\n",
            "Requirement already satisfied: importlib-metadata>=4.4 in /usr/local/lib/python3.7/dist-packages (from markdown>=2.6.8->tensorboard<2.9,>=2.8->tensorflow->keras-tcn) (4.11.4)\n",
            "Requirement already satisfied: zipp>=0.5 in /usr/local/lib/python3.7/dist-packages (from importlib-metadata>=4.4->markdown>=2.6.8->tensorboard<2.9,>=2.8->tensorflow->keras-tcn) (3.8.0)\n",
            "Requirement already satisfied: pyasn1<0.5.0,>=0.4.6 in /usr/local/lib/python3.7/dist-packages (from pyasn1-modules>=0.2.1->google-auth<3,>=1.6.3->tensorboard<2.9,>=2.8->tensorflow->keras-tcn) (0.4.8)\n",
            "Requirement already satisfied: urllib3!=1.25.0,!=1.25.1,<1.26,>=1.21.1 in /usr/local/lib/python3.7/dist-packages (from requests<3,>=2.21.0->tensorboard<2.9,>=2.8->tensorflow->keras-tcn) (1.24.3)\n",
            "Requirement already satisfied: certifi>=2017.4.17 in /usr/local/lib/python3.7/dist-packages (from requests<3,>=2.21.0->tensorboard<2.9,>=2.8->tensorflow->keras-tcn) (2022.5.18.1)\n",
            "Requirement already satisfied: idna<3,>=2.5 in /usr/local/lib/python3.7/dist-packages (from requests<3,>=2.21.0->tensorboard<2.9,>=2.8->tensorflow->keras-tcn) (2.10)\n",
            "Requirement already satisfied: chardet<4,>=3.0.2 in /usr/local/lib/python3.7/dist-packages (from requests<3,>=2.21.0->tensorboard<2.9,>=2.8->tensorflow->keras-tcn) (3.0.4)\n",
            "Requirement already satisfied: oauthlib>=3.0.0 in /usr/local/lib/python3.7/dist-packages (from requests-oauthlib>=0.7.0->google-auth-oauthlib<0.5,>=0.4.1->tensorboard<2.9,>=2.8->tensorflow->keras-tcn) (3.2.0)\n",
            "Requirement already satisfied: packaging in /usr/local/lib/python3.7/dist-packages (from tensorflow-addons->keras-tcn) (21.3)\n",
            "Requirement already satisfied: typeguard>=2.7 in /usr/local/lib/python3.7/dist-packages (from tensorflow-addons->keras-tcn) (2.7.1)\n",
            "Requirement already satisfied: pyparsing!=3.0.5,>=2.0.2 in /usr/local/lib/python3.7/dist-packages (from packaging->tensorflow-addons->keras-tcn) (3.0.9)\n"
          ]
        }
      ]
    },
    {
      "cell_type": "code",
      "metadata": {
        "id": "rHIVSlGTbWgU",
        "colab": {
          "base_uri": "https://localhost:8080/",
          "height": 35
        },
        "outputId": "219d0175-7027-4160-d70c-490d3a8cc952"
      },
      "source": [
        "wget.download(\"https://github.com/philipperemy/keras-tcn/raw/master/tasks/monthly-milk-production-pounds-p.csv\")"
      ],
      "execution_count": 2,
      "outputs": [
        {
          "output_type": "execute_result",
          "data": {
            "text/plain": [
              "'monthly-milk-production-pounds-p (3).csv'"
            ],
            "application/vnd.google.colaboratory.intrinsic+json": {
              "type": "string"
            }
          },
          "metadata": {},
          "execution_count": 2
        }
      ]
    },
    {
      "cell_type": "markdown",
      "metadata": {
        "id": "UMr5G8xhcCxj"
      },
      "source": [
        "### Read the dataset"
      ]
    },
    {
      "cell_type": "code",
      "metadata": {
        "id": "Rf8_Eyn9ba2y"
      },
      "source": [
        "milk = pd.read_csv('monthly-milk-production-pounds-p.csv', index_col=0, parse_dates=True)"
      ],
      "execution_count": 3,
      "outputs": []
    },
    {
      "cell_type": "markdown",
      "metadata": {
        "id": "SUK__zQQcJhk"
      },
      "source": [
        "### Display top5 Record"
      ]
    },
    {
      "cell_type": "code",
      "metadata": {
        "id": "kJmbRdavcFJb",
        "colab": {
          "base_uri": "https://localhost:8080/",
          "height": 255
        },
        "outputId": "083cd295-fe1a-4678-f2bf-03adc71182b8"
      },
      "source": [
        "print(milk.shape)\n",
        "milk.head()"
      ],
      "execution_count": 4,
      "outputs": [
        {
          "output_type": "stream",
          "name": "stdout",
          "text": [
            "(168, 1)\n"
          ]
        },
        {
          "output_type": "execute_result",
          "data": {
            "text/plain": [
              "            milk_production_pounds\n",
              "month                             \n",
              "1962-01-01                     589\n",
              "1962-02-01                     561\n",
              "1962-03-01                     640\n",
              "1962-04-01                     656\n",
              "1962-05-01                     727"
            ],
            "text/html": [
              "\n",
              "  <div id=\"df-3e259fba-3c4d-4108-ac7b-0a5e06d6eb61\">\n",
              "    <div class=\"colab-df-container\">\n",
              "      <div>\n",
              "<style scoped>\n",
              "    .dataframe tbody tr th:only-of-type {\n",
              "        vertical-align: middle;\n",
              "    }\n",
              "\n",
              "    .dataframe tbody tr th {\n",
              "        vertical-align: top;\n",
              "    }\n",
              "\n",
              "    .dataframe thead th {\n",
              "        text-align: right;\n",
              "    }\n",
              "</style>\n",
              "<table border=\"1\" class=\"dataframe\">\n",
              "  <thead>\n",
              "    <tr style=\"text-align: right;\">\n",
              "      <th></th>\n",
              "      <th>milk_production_pounds</th>\n",
              "    </tr>\n",
              "    <tr>\n",
              "      <th>month</th>\n",
              "      <th></th>\n",
              "    </tr>\n",
              "  </thead>\n",
              "  <tbody>\n",
              "    <tr>\n",
              "      <th>1962-01-01</th>\n",
              "      <td>589</td>\n",
              "    </tr>\n",
              "    <tr>\n",
              "      <th>1962-02-01</th>\n",
              "      <td>561</td>\n",
              "    </tr>\n",
              "    <tr>\n",
              "      <th>1962-03-01</th>\n",
              "      <td>640</td>\n",
              "    </tr>\n",
              "    <tr>\n",
              "      <th>1962-04-01</th>\n",
              "      <td>656</td>\n",
              "    </tr>\n",
              "    <tr>\n",
              "      <th>1962-05-01</th>\n",
              "      <td>727</td>\n",
              "    </tr>\n",
              "  </tbody>\n",
              "</table>\n",
              "</div>\n",
              "      <button class=\"colab-df-convert\" onclick=\"convertToInteractive('df-3e259fba-3c4d-4108-ac7b-0a5e06d6eb61')\"\n",
              "              title=\"Convert this dataframe to an interactive table.\"\n",
              "              style=\"display:none;\">\n",
              "        \n",
              "  <svg xmlns=\"http://www.w3.org/2000/svg\" height=\"24px\"viewBox=\"0 0 24 24\"\n",
              "       width=\"24px\">\n",
              "    <path d=\"M0 0h24v24H0V0z\" fill=\"none\"/>\n",
              "    <path d=\"M18.56 5.44l.94 2.06.94-2.06 2.06-.94-2.06-.94-.94-2.06-.94 2.06-2.06.94zm-11 1L8.5 8.5l.94-2.06 2.06-.94-2.06-.94L8.5 2.5l-.94 2.06-2.06.94zm10 10l.94 2.06.94-2.06 2.06-.94-2.06-.94-.94-2.06-.94 2.06-2.06.94z\"/><path d=\"M17.41 7.96l-1.37-1.37c-.4-.4-.92-.59-1.43-.59-.52 0-1.04.2-1.43.59L10.3 9.45l-7.72 7.72c-.78.78-.78 2.05 0 2.83L4 21.41c.39.39.9.59 1.41.59.51 0 1.02-.2 1.41-.59l7.78-7.78 2.81-2.81c.8-.78.8-2.07 0-2.86zM5.41 20L4 18.59l7.72-7.72 1.47 1.35L5.41 20z\"/>\n",
              "  </svg>\n",
              "      </button>\n",
              "      \n",
              "  <style>\n",
              "    .colab-df-container {\n",
              "      display:flex;\n",
              "      flex-wrap:wrap;\n",
              "      gap: 12px;\n",
              "    }\n",
              "\n",
              "    .colab-df-convert {\n",
              "      background-color: #E8F0FE;\n",
              "      border: none;\n",
              "      border-radius: 50%;\n",
              "      cursor: pointer;\n",
              "      display: none;\n",
              "      fill: #1967D2;\n",
              "      height: 32px;\n",
              "      padding: 0 0 0 0;\n",
              "      width: 32px;\n",
              "    }\n",
              "\n",
              "    .colab-df-convert:hover {\n",
              "      background-color: #E2EBFA;\n",
              "      box-shadow: 0px 1px 2px rgba(60, 64, 67, 0.3), 0px 1px 3px 1px rgba(60, 64, 67, 0.15);\n",
              "      fill: #174EA6;\n",
              "    }\n",
              "\n",
              "    [theme=dark] .colab-df-convert {\n",
              "      background-color: #3B4455;\n",
              "      fill: #D2E3FC;\n",
              "    }\n",
              "\n",
              "    [theme=dark] .colab-df-convert:hover {\n",
              "      background-color: #434B5C;\n",
              "      box-shadow: 0px 1px 3px 1px rgba(0, 0, 0, 0.15);\n",
              "      filter: drop-shadow(0px 1px 2px rgba(0, 0, 0, 0.3));\n",
              "      fill: #FFFFFF;\n",
              "    }\n",
              "  </style>\n",
              "\n",
              "      <script>\n",
              "        const buttonEl =\n",
              "          document.querySelector('#df-3e259fba-3c4d-4108-ac7b-0a5e06d6eb61 button.colab-df-convert');\n",
              "        buttonEl.style.display =\n",
              "          google.colab.kernel.accessAllowed ? 'block' : 'none';\n",
              "\n",
              "        async function convertToInteractive(key) {\n",
              "          const element = document.querySelector('#df-3e259fba-3c4d-4108-ac7b-0a5e06d6eb61');\n",
              "          const dataTable =\n",
              "            await google.colab.kernel.invokeFunction('convertToInteractive',\n",
              "                                                     [key], {});\n",
              "          if (!dataTable) return;\n",
              "\n",
              "          const docLinkHtml = 'Like what you see? Visit the ' +\n",
              "            '<a target=\"_blank\" href=https://colab.research.google.com/notebooks/data_table.ipynb>data table notebook</a>'\n",
              "            + ' to learn more about interactive tables.';\n",
              "          element.innerHTML = '';\n",
              "          dataTable['output_type'] = 'display_data';\n",
              "          await google.colab.output.renderOutput(dataTable, element);\n",
              "          const docLink = document.createElement('div');\n",
              "          docLink.innerHTML = docLinkHtml;\n",
              "          element.appendChild(docLink);\n",
              "        }\n",
              "      </script>\n",
              "    </div>\n",
              "  </div>\n",
              "  "
            ]
          },
          "metadata": {},
          "execution_count": 4
        }
      ]
    },
    {
      "cell_type": "markdown",
      "source": [
        "##Data preparation"
      ],
      "metadata": {
        "id": "OtQW6hgIW3Lf"
      }
    },
    {
      "cell_type": "markdown",
      "metadata": {
        "id": "OxtoyYB_cPJR"
      },
      "source": [
        "### Lookback 12 month windows"
      ]
    },
    {
      "cell_type": "code",
      "metadata": {
        "id": "I8TY8aTQcIR4"
      },
      "source": [
        "lookback_window = 12 "
      ],
      "execution_count": 5,
      "outputs": []
    },
    {
      "cell_type": "markdown",
      "metadata": {
        "id": "zDy7WxEtcV96"
      },
      "source": [
        "### Convert Milk Data into Numpy Array"
      ]
    },
    {
      "cell_type": "code",
      "metadata": {
        "id": "GOV5KuwJcR3Z"
      },
      "source": [
        "milk = milk.values  "
      ],
      "execution_count": 6,
      "outputs": []
    },
    {
      "cell_type": "markdown",
      "metadata": {
        "id": "xTd4_RAhcf_G"
      },
      "source": [
        "### Convert in to X, y format"
      ]
    },
    {
      "cell_type": "code",
      "metadata": {
        "id": "QRHxD8-vcZua",
        "colab": {
          "base_uri": "https://localhost:8080/",
          "height": 49,
          "referenced_widgets": [
            "95dfb3abee1249c28e8a0ee81a135fce",
            "34e86073ed7f46439e6776f3236d7204",
            "5db55609e7bf4491b5018d08a14e88a9",
            "4414e5db0ad54b8182799b6409cd4e5c",
            "2d1a261e0cf4464cb4073c1ef574857f",
            "fcff4c7aaad44c9cb0ea79b55b746c6e",
            "d8c45b2137084263a7d0f3a7351a5291",
            "10589c336239420fbd0737c0f6195aaf",
            "2da508c245504af89ea81f9320667659",
            "385b7480bc2d4e189df3bca07cf32230",
            "7ef2cc633b4b46abae9757af788c65df"
          ]
        },
        "outputId": "35a6a10c-138b-4477-a96d-b016013a7195"
      },
      "source": [
        "x = []\n",
        "y = []\n",
        "for i in tqdm(range(lookback_window, len(milk))):\n",
        "    x.append(milk[i - lookback_window:i])\n",
        "    y.append(milk[i])"
      ],
      "execution_count": 7,
      "outputs": [
        {
          "output_type": "display_data",
          "data": {
            "text/plain": [
              "  0%|          | 0/156 [00:00<?, ?it/s]"
            ],
            "application/vnd.jupyter.widget-view+json": {
              "version_major": 2,
              "version_minor": 0,
              "model_id": "95dfb3abee1249c28e8a0ee81a135fce"
            }
          },
          "metadata": {}
        }
      ]
    },
    {
      "cell_type": "markdown",
      "metadata": {
        "id": "h6NKNRpUdU0e"
      },
      "source": [
        "### Generate Array of list x and y"
      ]
    },
    {
      "cell_type": "code",
      "metadata": {
        "id": "B3xGy8bec9Q5",
        "colab": {
          "base_uri": "https://localhost:8080/"
        },
        "outputId": "db26dbd5-e9d3-46a2-b51f-940e2408210a"
      },
      "source": [
        "x = np.array(x)\n",
        "y = np.array(y)\n",
        "print(x.shape)\n",
        "print(y.shape)"
      ],
      "execution_count": 8,
      "outputs": [
        {
          "output_type": "stream",
          "name": "stdout",
          "text": [
            "(156, 12, 1)\n",
            "(156, 1)\n"
          ]
        }
      ]
    },
    {
      "cell_type": "markdown",
      "source": [
        "##TCN model"
      ],
      "metadata": {
        "id": "gLrbbe6UW6OC"
      }
    },
    {
      "cell_type": "markdown",
      "metadata": {
        "id": "3dqsLFT4dk7s"
      },
      "source": [
        "### Model Design"
      ]
    },
    {
      "cell_type": "code",
      "metadata": {
        "id": "y783wDIxdeke",
        "colab": {
          "base_uri": "https://localhost:8080/"
        },
        "outputId": "c9e9db5b-1167-4fa1-ff6c-9237f38493f2"
      },
      "source": [
        "i = Input(shape=(lookback_window, 1))\n",
        "m = TCN()(i)\n",
        "m = Dense(1, activation='linear')(m)\n",
        "\n",
        "model = Model(inputs=[i], outputs=[m])\n",
        "model.summary()"
      ],
      "execution_count": 9,
      "outputs": [
        {
          "output_type": "stream",
          "name": "stdout",
          "text": [
            "Model: \"model\"\n",
            "_________________________________________________________________\n",
            " Layer (type)                Output Shape              Param #   \n",
            "=================================================================\n",
            " input_1 (InputLayer)        [(None, 12, 1)]           0         \n",
            "                                                                 \n",
            " tcn (TCN)                   (None, 64)                136256    \n",
            "                                                                 \n",
            " dense (Dense)               (None, 1)                 65        \n",
            "                                                                 \n",
            "=================================================================\n",
            "Total params: 136,321\n",
            "Trainable params: 136,321\n",
            "Non-trainable params: 0\n",
            "_________________________________________________________________\n"
          ]
        }
      ]
    },
    {
      "cell_type": "code",
      "metadata": {
        "id": "Fsv10DsLdtKy"
      },
      "source": [
        "model.compile('adam','mae')"
      ],
      "execution_count": 10,
      "outputs": []
    },
    {
      "cell_type": "markdown",
      "metadata": {
        "id": "UjY_u3rid3m0"
      },
      "source": [
        "###Train"
      ]
    },
    {
      "cell_type": "code",
      "metadata": {
        "id": "rfU_56-zd0eC",
        "colab": {
          "base_uri": "https://localhost:8080/"
        },
        "outputId": "59622fee-9077-49fd-bb18-a1e81e4a64a9"
      },
      "source": [
        "history = model.fit(x, y, epochs=300, validation_split=0.1)"
      ],
      "execution_count": 11,
      "outputs": [
        {
          "output_type": "stream",
          "name": "stdout",
          "text": [
            "Epoch 1/300\n",
            "5/5 [==============================] - 5s 164ms/step - loss: 2056.3823 - val_loss: 265.8192\n",
            "Epoch 2/300\n",
            "5/5 [==============================] - 0s 12ms/step - loss: 774.0198 - val_loss: 1545.5864\n",
            "Epoch 3/300\n",
            "5/5 [==============================] - 0s 12ms/step - loss: 874.5132 - val_loss: 895.0286\n",
            "Epoch 4/300\n",
            "5/5 [==============================] - 0s 12ms/step - loss: 651.7828 - val_loss: 379.5720\n",
            "Epoch 5/300\n",
            "5/5 [==============================] - 0s 13ms/step - loss: 442.5644 - val_loss: 394.2055\n",
            "Epoch 6/300\n",
            "5/5 [==============================] - 0s 13ms/step - loss: 426.3651 - val_loss: 704.8297\n",
            "Epoch 7/300\n",
            "5/5 [==============================] - 0s 12ms/step - loss: 396.8609 - val_loss: 513.5321\n",
            "Epoch 8/300\n",
            "5/5 [==============================] - 0s 12ms/step - loss: 371.5615 - val_loss: 183.3310\n",
            "Epoch 9/300\n",
            "5/5 [==============================] - 0s 12ms/step - loss: 281.1783 - val_loss: 193.8175\n",
            "Epoch 10/300\n",
            "5/5 [==============================] - 0s 36ms/step - loss: 145.0852 - val_loss: 108.3871\n",
            "Epoch 11/300\n",
            "5/5 [==============================] - 0s 19ms/step - loss: 121.1208 - val_loss: 114.3647\n",
            "Epoch 12/300\n",
            "5/5 [==============================] - 0s 22ms/step - loss: 92.3984 - val_loss: 273.8349\n",
            "Epoch 13/300\n",
            "5/5 [==============================] - 0s 20ms/step - loss: 208.5524 - val_loss: 249.8499\n",
            "Epoch 14/300\n",
            "5/5 [==============================] - 0s 30ms/step - loss: 140.3197 - val_loss: 293.2848\n",
            "Epoch 15/300\n",
            "5/5 [==============================] - 0s 22ms/step - loss: 223.1407 - val_loss: 37.5163\n",
            "Epoch 16/300\n",
            "5/5 [==============================] - 0s 26ms/step - loss: 155.2656 - val_loss: 455.6485\n",
            "Epoch 17/300\n",
            "5/5 [==============================] - 0s 22ms/step - loss: 288.8538 - val_loss: 552.0239\n",
            "Epoch 18/300\n",
            "5/5 [==============================] - 0s 21ms/step - loss: 272.9622 - val_loss: 95.9842\n",
            "Epoch 19/300\n",
            "5/5 [==============================] - 0s 30ms/step - loss: 227.5780 - val_loss: 337.2733\n",
            "Epoch 20/300\n",
            "5/5 [==============================] - 0s 28ms/step - loss: 316.5805 - val_loss: 221.8312\n",
            "Epoch 21/300\n",
            "5/5 [==============================] - 0s 26ms/step - loss: 121.6081 - val_loss: 134.3185\n",
            "Epoch 22/300\n",
            "5/5 [==============================] - 0s 19ms/step - loss: 84.6279 - val_loss: 103.6529\n",
            "Epoch 23/300\n",
            "5/5 [==============================] - 0s 32ms/step - loss: 117.2832 - val_loss: 192.1556\n",
            "Epoch 24/300\n",
            "5/5 [==============================] - 0s 22ms/step - loss: 158.8144 - val_loss: 56.1258\n",
            "Epoch 25/300\n",
            "5/5 [==============================] - 0s 21ms/step - loss: 120.1266 - val_loss: 277.9304\n",
            "Epoch 26/300\n",
            "5/5 [==============================] - 0s 20ms/step - loss: 133.2058 - val_loss: 224.8073\n",
            "Epoch 27/300\n",
            "5/5 [==============================] - 0s 32ms/step - loss: 150.5328 - val_loss: 41.7118\n",
            "Epoch 28/300\n",
            "5/5 [==============================] - 0s 23ms/step - loss: 109.5315 - val_loss: 207.4470\n",
            "Epoch 29/300\n",
            "5/5 [==============================] - 0s 22ms/step - loss: 132.5684 - val_loss: 91.7102\n",
            "Epoch 30/300\n",
            "5/5 [==============================] - 0s 18ms/step - loss: 78.1446 - val_loss: 102.0113\n",
            "Epoch 31/300\n",
            "5/5 [==============================] - 0s 26ms/step - loss: 70.7415 - val_loss: 48.4074\n",
            "Epoch 32/300\n",
            "5/5 [==============================] - 0s 20ms/step - loss: 36.9146 - val_loss: 36.3502\n",
            "Epoch 33/300\n",
            "5/5 [==============================] - 0s 29ms/step - loss: 26.2432 - val_loss: 48.7357\n",
            "Epoch 34/300\n",
            "5/5 [==============================] - 0s 33ms/step - loss: 31.7221 - val_loss: 23.6487\n",
            "Epoch 35/300\n",
            "5/5 [==============================] - 0s 21ms/step - loss: 38.2994 - val_loss: 45.2102\n",
            "Epoch 36/300\n",
            "5/5 [==============================] - 0s 23ms/step - loss: 100.8732 - val_loss: 245.8019\n",
            "Epoch 37/300\n",
            "5/5 [==============================] - 0s 34ms/step - loss: 158.3037 - val_loss: 113.3663\n",
            "Epoch 38/300\n",
            "5/5 [==============================] - 0s 24ms/step - loss: 116.6171 - val_loss: 128.3958\n",
            "Epoch 39/300\n",
            "5/5 [==============================] - 0s 24ms/step - loss: 105.6018 - val_loss: 219.0955\n",
            "Epoch 40/300\n",
            "5/5 [==============================] - 0s 22ms/step - loss: 126.4573 - val_loss: 133.0850\n",
            "Epoch 41/300\n",
            "5/5 [==============================] - 0s 27ms/step - loss: 128.9348 - val_loss: 164.6372\n",
            "Epoch 42/300\n",
            "5/5 [==============================] - 0s 25ms/step - loss: 87.8926 - val_loss: 166.9543\n",
            "Epoch 43/300\n",
            "5/5 [==============================] - 0s 21ms/step - loss: 117.6639 - val_loss: 132.4858\n",
            "Epoch 44/300\n",
            "5/5 [==============================] - 0s 30ms/step - loss: 118.3414 - val_loss: 48.0694\n",
            "Epoch 45/300\n",
            "5/5 [==============================] - 0s 20ms/step - loss: 77.7964 - val_loss: 127.9248\n",
            "Epoch 46/300\n",
            "5/5 [==============================] - 0s 24ms/step - loss: 86.6380 - val_loss: 93.3737\n",
            "Epoch 47/300\n",
            "5/5 [==============================] - 0s 30ms/step - loss: 67.4934 - val_loss: 74.9543\n",
            "Epoch 48/300\n",
            "5/5 [==============================] - 0s 18ms/step - loss: 46.4597 - val_loss: 39.3520\n",
            "Epoch 49/300\n",
            "5/5 [==============================] - 0s 37ms/step - loss: 29.2513 - val_loss: 26.3626\n",
            "Epoch 50/300\n",
            "5/5 [==============================] - 0s 24ms/step - loss: 27.8480 - val_loss: 72.4229\n",
            "Epoch 51/300\n",
            "5/5 [==============================] - 0s 27ms/step - loss: 50.6372 - val_loss: 131.4305\n",
            "Epoch 52/300\n",
            "5/5 [==============================] - 0s 23ms/step - loss: 50.1070 - val_loss: 32.8641\n",
            "Epoch 53/300\n",
            "5/5 [==============================] - 0s 25ms/step - loss: 26.7987 - val_loss: 18.4601\n",
            "Epoch 54/300\n",
            "5/5 [==============================] - 0s 29ms/step - loss: 26.4997 - val_loss: 87.0868\n",
            "Epoch 55/300\n",
            "5/5 [==============================] - 0s 23ms/step - loss: 66.3661 - val_loss: 66.8036\n",
            "Epoch 56/300\n",
            "5/5 [==============================] - 0s 33ms/step - loss: 30.2479 - val_loss: 22.0946\n",
            "Epoch 57/300\n",
            "5/5 [==============================] - 0s 21ms/step - loss: 29.1969 - val_loss: 36.7300\n",
            "Epoch 58/300\n",
            "5/5 [==============================] - 0s 18ms/step - loss: 31.0973 - val_loss: 46.9810\n",
            "Epoch 59/300\n",
            "5/5 [==============================] - 0s 18ms/step - loss: 38.0264 - val_loss: 110.0302\n",
            "Epoch 60/300\n",
            "5/5 [==============================] - 0s 33ms/step - loss: 67.0715 - val_loss: 50.8265\n",
            "Epoch 61/300\n",
            "5/5 [==============================] - 0s 28ms/step - loss: 58.6858 - val_loss: 62.4727\n",
            "Epoch 62/300\n",
            "5/5 [==============================] - 0s 24ms/step - loss: 74.8828 - val_loss: 117.8921\n",
            "Epoch 63/300\n",
            "5/5 [==============================] - 0s 21ms/step - loss: 76.1878 - val_loss: 126.2490\n",
            "Epoch 64/300\n",
            "5/5 [==============================] - 0s 29ms/step - loss: 122.0112 - val_loss: 189.8123\n",
            "Epoch 65/300\n",
            "5/5 [==============================] - 0s 20ms/step - loss: 103.8351 - val_loss: 195.8183\n",
            "Epoch 66/300\n",
            "5/5 [==============================] - 0s 22ms/step - loss: 154.6029 - val_loss: 360.1453\n",
            "Epoch 67/300\n",
            "5/5 [==============================] - 0s 37ms/step - loss: 206.5214 - val_loss: 181.1522\n",
            "Epoch 68/300\n",
            "5/5 [==============================] - 0s 22ms/step - loss: 143.6521 - val_loss: 23.9445\n",
            "Epoch 69/300\n",
            "5/5 [==============================] - 0s 22ms/step - loss: 192.8227 - val_loss: 60.6288\n",
            "Epoch 70/300\n",
            "5/5 [==============================] - 0s 33ms/step - loss: 107.0267 - val_loss: 242.3813\n",
            "Epoch 71/300\n",
            "5/5 [==============================] - 0s 21ms/step - loss: 136.5450 - val_loss: 141.4875\n",
            "Epoch 72/300\n",
            "5/5 [==============================] - 0s 29ms/step - loss: 82.1676 - val_loss: 62.0584\n",
            "Epoch 73/300\n",
            "5/5 [==============================] - 0s 23ms/step - loss: 36.9414 - val_loss: 85.3559\n",
            "Epoch 74/300\n",
            "5/5 [==============================] - 0s 22ms/step - loss: 61.4056 - val_loss: 98.8532\n",
            "Epoch 75/300\n",
            "5/5 [==============================] - 0s 33ms/step - loss: 61.3460 - val_loss: 91.5960\n",
            "Epoch 76/300\n",
            "5/5 [==============================] - 0s 38ms/step - loss: 48.2930 - val_loss: 79.2230\n",
            "Epoch 77/300\n",
            "5/5 [==============================] - 0s 29ms/step - loss: 44.8172 - val_loss: 89.0817\n",
            "Epoch 78/300\n",
            "5/5 [==============================] - 0s 35ms/step - loss: 53.4233 - val_loss: 24.6915\n",
            "Epoch 79/300\n",
            "5/5 [==============================] - 0s 26ms/step - loss: 50.8026 - val_loss: 21.2652\n",
            "Epoch 80/300\n",
            "5/5 [==============================] - 0s 19ms/step - loss: 56.7203 - val_loss: 27.0128\n",
            "Epoch 81/300\n",
            "5/5 [==============================] - 0s 21ms/step - loss: 56.8846 - val_loss: 97.1551\n",
            "Epoch 82/300\n",
            "5/5 [==============================] - 0s 23ms/step - loss: 40.5797 - val_loss: 76.6687\n",
            "Epoch 83/300\n",
            "5/5 [==============================] - 0s 33ms/step - loss: 61.6433 - val_loss: 158.3029\n",
            "Epoch 84/300\n",
            "5/5 [==============================] - 0s 29ms/step - loss: 114.2400 - val_loss: 59.6136\n",
            "Epoch 85/300\n",
            "5/5 [==============================] - 0s 28ms/step - loss: 75.8893 - val_loss: 137.9017\n",
            "Epoch 86/300\n",
            "5/5 [==============================] - 0s 25ms/step - loss: 100.5004 - val_loss: 54.3085\n",
            "Epoch 87/300\n",
            "5/5 [==============================] - 0s 45ms/step - loss: 68.8954 - val_loss: 84.2698\n",
            "Epoch 88/300\n",
            "5/5 [==============================] - 0s 39ms/step - loss: 84.4551 - val_loss: 121.6586\n",
            "Epoch 89/300\n",
            "5/5 [==============================] - 0s 42ms/step - loss: 73.2736 - val_loss: 130.2080\n",
            "Epoch 90/300\n",
            "5/5 [==============================] - 0s 40ms/step - loss: 96.5574 - val_loss: 69.5433\n",
            "Epoch 91/300\n",
            "5/5 [==============================] - 0s 33ms/step - loss: 55.7256 - val_loss: 76.1803\n",
            "Epoch 92/300\n",
            "5/5 [==============================] - 0s 34ms/step - loss: 43.0510 - val_loss: 26.0540\n",
            "Epoch 93/300\n",
            "5/5 [==============================] - 0s 38ms/step - loss: 22.2606 - val_loss: 29.8294\n",
            "Epoch 94/300\n",
            "5/5 [==============================] - 0s 30ms/step - loss: 53.6907 - val_loss: 20.8672\n",
            "Epoch 95/300\n",
            "5/5 [==============================] - 0s 26ms/step - loss: 41.2867 - val_loss: 37.5302\n",
            "Epoch 96/300\n",
            "5/5 [==============================] - 0s 35ms/step - loss: 46.5277 - val_loss: 14.5415\n",
            "Epoch 97/300\n",
            "5/5 [==============================] - 0s 33ms/step - loss: 21.0312 - val_loss: 76.2642\n",
            "Epoch 98/300\n",
            "5/5 [==============================] - 0s 32ms/step - loss: 68.2276 - val_loss: 92.4584\n",
            "Epoch 99/300\n",
            "5/5 [==============================] - 0s 19ms/step - loss: 85.0252 - val_loss: 110.4985\n",
            "Epoch 100/300\n",
            "5/5 [==============================] - 0s 23ms/step - loss: 70.8249 - val_loss: 134.1718\n",
            "Epoch 101/300\n",
            "5/5 [==============================] - 0s 30ms/step - loss: 86.7045 - val_loss: 111.9607\n",
            "Epoch 102/300\n",
            "5/5 [==============================] - 0s 27ms/step - loss: 86.0130 - val_loss: 53.9080\n",
            "Epoch 103/300\n",
            "5/5 [==============================] - 0s 28ms/step - loss: 77.5944 - val_loss: 91.1166\n",
            "Epoch 104/300\n",
            "5/5 [==============================] - 0s 21ms/step - loss: 78.3762 - val_loss: 16.2969\n",
            "Epoch 105/300\n",
            "5/5 [==============================] - 0s 29ms/step - loss: 31.4070 - val_loss: 24.7535\n",
            "Epoch 106/300\n",
            "5/5 [==============================] - 0s 41ms/step - loss: 54.9297 - val_loss: 72.5741\n",
            "Epoch 107/300\n",
            "5/5 [==============================] - 0s 35ms/step - loss: 58.6334 - val_loss: 57.1486\n",
            "Epoch 108/300\n",
            "5/5 [==============================] - 0s 30ms/step - loss: 48.4394 - val_loss: 64.0874\n",
            "Epoch 109/300\n",
            "5/5 [==============================] - 0s 21ms/step - loss: 48.5583 - val_loss: 46.0459\n",
            "Epoch 110/300\n",
            "5/5 [==============================] - 0s 38ms/step - loss: 48.7068 - val_loss: 33.1780\n",
            "Epoch 111/300\n",
            "5/5 [==============================] - 0s 26ms/step - loss: 37.2430 - val_loss: 44.6020\n",
            "Epoch 112/300\n",
            "5/5 [==============================] - 0s 20ms/step - loss: 47.5784 - val_loss: 28.1227\n",
            "Epoch 113/300\n",
            "5/5 [==============================] - 0s 19ms/step - loss: 41.2373 - val_loss: 62.1415\n",
            "Epoch 114/300\n",
            "5/5 [==============================] - 0s 20ms/step - loss: 44.1338 - val_loss: 62.2709\n",
            "Epoch 115/300\n",
            "5/5 [==============================] - 0s 34ms/step - loss: 43.4914 - val_loss: 38.0590\n",
            "Epoch 116/300\n",
            "5/5 [==============================] - 0s 23ms/step - loss: 40.9364 - val_loss: 15.1149\n",
            "Epoch 117/300\n",
            "5/5 [==============================] - 0s 18ms/step - loss: 33.0906 - val_loss: 60.4225\n",
            "Epoch 118/300\n",
            "5/5 [==============================] - 0s 22ms/step - loss: 36.3954 - val_loss: 67.1741\n",
            "Epoch 119/300\n",
            "5/5 [==============================] - 0s 23ms/step - loss: 42.4553 - val_loss: 42.5639\n",
            "Epoch 120/300\n",
            "5/5 [==============================] - 0s 24ms/step - loss: 31.7482 - val_loss: 26.6371\n",
            "Epoch 121/300\n",
            "5/5 [==============================] - 0s 36ms/step - loss: 41.9647 - val_loss: 62.6125\n",
            "Epoch 122/300\n",
            "5/5 [==============================] - 0s 27ms/step - loss: 41.8644 - val_loss: 70.6934\n",
            "Epoch 123/300\n",
            "5/5 [==============================] - 0s 23ms/step - loss: 39.5938 - val_loss: 31.6058\n",
            "Epoch 124/300\n",
            "5/5 [==============================] - 0s 18ms/step - loss: 45.8068 - val_loss: 34.9043\n",
            "Epoch 125/300\n",
            "5/5 [==============================] - 0s 32ms/step - loss: 27.9431 - val_loss: 44.1765\n",
            "Epoch 126/300\n",
            "5/5 [==============================] - 0s 27ms/step - loss: 36.0865 - val_loss: 81.9554\n",
            "Epoch 127/300\n",
            "5/5 [==============================] - 0s 18ms/step - loss: 37.3482 - val_loss: 67.8939\n",
            "Epoch 128/300\n",
            "5/5 [==============================] - 0s 20ms/step - loss: 42.4608 - val_loss: 16.9812\n",
            "Epoch 129/300\n",
            "5/5 [==============================] - 0s 21ms/step - loss: 21.2837 - val_loss: 28.1466\n",
            "Epoch 130/300\n",
            "5/5 [==============================] - 0s 25ms/step - loss: 21.3227 - val_loss: 20.7954\n",
            "Epoch 131/300\n",
            "5/5 [==============================] - 0s 19ms/step - loss: 36.9597 - val_loss: 20.8384\n",
            "Epoch 132/300\n",
            "5/5 [==============================] - 0s 43ms/step - loss: 36.6220 - val_loss: 65.8981\n",
            "Epoch 133/300\n",
            "5/5 [==============================] - 0s 37ms/step - loss: 40.3711 - val_loss: 93.6677\n",
            "Epoch 134/300\n",
            "5/5 [==============================] - 0s 40ms/step - loss: 85.9366 - val_loss: 40.5054\n",
            "Epoch 135/300\n",
            "5/5 [==============================] - 0s 40ms/step - loss: 64.5275 - val_loss: 79.0770\n",
            "Epoch 136/300\n",
            "5/5 [==============================] - 0s 44ms/step - loss: 65.3260 - val_loss: 117.2977\n",
            "Epoch 137/300\n",
            "5/5 [==============================] - 0s 24ms/step - loss: 67.1913 - val_loss: 108.0247\n",
            "Epoch 138/300\n",
            "5/5 [==============================] - 0s 22ms/step - loss: 77.2922 - val_loss: 30.2604\n",
            "Epoch 139/300\n",
            "5/5 [==============================] - 0s 17ms/step - loss: 43.5119 - val_loss: 29.9311\n",
            "Epoch 140/300\n",
            "5/5 [==============================] - 0s 34ms/step - loss: 50.4014 - val_loss: 91.5228\n",
            "Epoch 141/300\n",
            "5/5 [==============================] - 0s 45ms/step - loss: 75.3176 - val_loss: 41.3842\n",
            "Epoch 142/300\n",
            "5/5 [==============================] - 0s 39ms/step - loss: 55.8479 - val_loss: 36.3392\n",
            "Epoch 143/300\n",
            "5/5 [==============================] - 0s 25ms/step - loss: 63.3539 - val_loss: 119.9669\n",
            "Epoch 144/300\n",
            "5/5 [==============================] - 0s 21ms/step - loss: 74.3379 - val_loss: 50.6555\n",
            "Epoch 145/300\n",
            "5/5 [==============================] - 0s 28ms/step - loss: 33.9563 - val_loss: 26.3525\n",
            "Epoch 146/300\n",
            "5/5 [==============================] - 0s 30ms/step - loss: 32.7763 - val_loss: 23.5302\n",
            "Epoch 147/300\n",
            "5/5 [==============================] - 0s 27ms/step - loss: 34.2613 - val_loss: 30.6755\n",
            "Epoch 148/300\n",
            "5/5 [==============================] - 0s 26ms/step - loss: 36.1491 - val_loss: 45.5243\n",
            "Epoch 149/300\n",
            "5/5 [==============================] - 0s 28ms/step - loss: 30.2450 - val_loss: 55.2355\n",
            "Epoch 150/300\n",
            "5/5 [==============================] - 0s 32ms/step - loss: 34.0462 - val_loss: 22.0171\n",
            "Epoch 151/300\n",
            "5/5 [==============================] - 0s 24ms/step - loss: 28.6242 - val_loss: 49.7208\n",
            "Epoch 152/300\n",
            "5/5 [==============================] - 0s 14ms/step - loss: 29.7197 - val_loss: 57.6217\n",
            "Epoch 153/300\n",
            "5/5 [==============================] - 0s 13ms/step - loss: 44.1508 - val_loss: 101.8735\n",
            "Epoch 154/300\n",
            "5/5 [==============================] - 0s 14ms/step - loss: 81.1520 - val_loss: 105.7142\n",
            "Epoch 155/300\n",
            "5/5 [==============================] - 0s 14ms/step - loss: 88.6597 - val_loss: 14.1690\n",
            "Epoch 156/300\n",
            "5/5 [==============================] - 0s 13ms/step - loss: 57.1541 - val_loss: 151.3839\n",
            "Epoch 157/300\n",
            "5/5 [==============================] - 0s 14ms/step - loss: 88.3256 - val_loss: 124.6992\n",
            "Epoch 158/300\n",
            "5/5 [==============================] - 0s 13ms/step - loss: 116.4790 - val_loss: 118.0720\n",
            "Epoch 159/300\n",
            "5/5 [==============================] - 0s 14ms/step - loss: 69.7453 - val_loss: 68.7331\n",
            "Epoch 160/300\n",
            "5/5 [==============================] - 0s 13ms/step - loss: 40.0237 - val_loss: 42.4676\n",
            "Epoch 161/300\n",
            "5/5 [==============================] - 0s 14ms/step - loss: 38.1306 - val_loss: 71.0659\n",
            "Epoch 162/300\n",
            "5/5 [==============================] - 0s 13ms/step - loss: 44.5045 - val_loss: 33.3767\n",
            "Epoch 163/300\n",
            "5/5 [==============================] - 0s 13ms/step - loss: 29.6691 - val_loss: 21.4504\n",
            "Epoch 164/300\n",
            "5/5 [==============================] - 0s 13ms/step - loss: 23.3988 - val_loss: 12.7491\n",
            "Epoch 165/300\n",
            "5/5 [==============================] - 0s 14ms/step - loss: 37.6035 - val_loss: 29.1486\n",
            "Epoch 166/300\n",
            "5/5 [==============================] - 0s 13ms/step - loss: 26.4378 - val_loss: 26.1845\n",
            "Epoch 167/300\n",
            "5/5 [==============================] - 0s 14ms/step - loss: 24.8167 - val_loss: 15.9638\n",
            "Epoch 168/300\n",
            "5/5 [==============================] - 0s 13ms/step - loss: 14.1711 - val_loss: 25.0026\n",
            "Epoch 169/300\n",
            "5/5 [==============================] - 0s 13ms/step - loss: 20.7742 - val_loss: 60.4569\n",
            "Epoch 170/300\n",
            "5/5 [==============================] - 0s 13ms/step - loss: 40.8600 - val_loss: 16.7912\n",
            "Epoch 171/300\n",
            "5/5 [==============================] - 0s 13ms/step - loss: 32.7582 - val_loss: 36.2258\n",
            "Epoch 172/300\n",
            "5/5 [==============================] - 0s 13ms/step - loss: 24.8673 - val_loss: 59.6753\n",
            "Epoch 173/300\n",
            "5/5 [==============================] - 0s 14ms/step - loss: 33.4715 - val_loss: 37.4417\n",
            "Epoch 174/300\n",
            "5/5 [==============================] - 0s 14ms/step - loss: 35.2456 - val_loss: 17.2591\n",
            "Epoch 175/300\n",
            "5/5 [==============================] - 0s 13ms/step - loss: 26.2941 - val_loss: 62.5638\n",
            "Epoch 176/300\n",
            "5/5 [==============================] - 0s 13ms/step - loss: 41.4745 - val_loss: 29.1669\n",
            "Epoch 177/300\n",
            "5/5 [==============================] - 0s 14ms/step - loss: 25.3398 - val_loss: 43.4692\n",
            "Epoch 178/300\n",
            "5/5 [==============================] - 0s 14ms/step - loss: 33.4632 - val_loss: 9.2350\n",
            "Epoch 179/300\n",
            "5/5 [==============================] - 0s 13ms/step - loss: 20.2463 - val_loss: 33.8278\n",
            "Epoch 180/300\n",
            "5/5 [==============================] - 0s 18ms/step - loss: 32.0425 - val_loss: 32.8224\n",
            "Epoch 181/300\n",
            "5/5 [==============================] - 0s 27ms/step - loss: 28.0438 - val_loss: 16.4854\n",
            "Epoch 182/300\n",
            "5/5 [==============================] - 0s 15ms/step - loss: 37.6382 - val_loss: 12.0288\n",
            "Epoch 183/300\n",
            "5/5 [==============================] - 0s 15ms/step - loss: 36.1358 - val_loss: 40.1704\n",
            "Epoch 184/300\n",
            "5/5 [==============================] - 0s 13ms/step - loss: 30.7647 - val_loss: 66.6356\n",
            "Epoch 185/300\n",
            "5/5 [==============================] - 0s 13ms/step - loss: 26.9308 - val_loss: 30.2189\n",
            "Epoch 186/300\n",
            "5/5 [==============================] - 0s 14ms/step - loss: 28.4569 - val_loss: 50.2979\n",
            "Epoch 187/300\n",
            "5/5 [==============================] - 0s 14ms/step - loss: 28.4252 - val_loss: 26.9542\n",
            "Epoch 188/300\n",
            "5/5 [==============================] - 0s 15ms/step - loss: 13.5540 - val_loss: 15.7986\n",
            "Epoch 189/300\n",
            "5/5 [==============================] - 0s 14ms/step - loss: 14.6347 - val_loss: 29.3189\n",
            "Epoch 190/300\n",
            "5/5 [==============================] - 0s 13ms/step - loss: 15.0280 - val_loss: 15.1417\n",
            "Epoch 191/300\n",
            "5/5 [==============================] - 0s 13ms/step - loss: 13.4861 - val_loss: 12.5966\n",
            "Epoch 192/300\n",
            "5/5 [==============================] - 0s 13ms/step - loss: 19.0931 - val_loss: 28.0047\n",
            "Epoch 193/300\n",
            "5/5 [==============================] - 0s 14ms/step - loss: 41.6914 - val_loss: 82.3655\n",
            "Epoch 194/300\n",
            "5/5 [==============================] - 0s 15ms/step - loss: 41.3005 - val_loss: 46.4898\n",
            "Epoch 195/300\n",
            "5/5 [==============================] - 0s 13ms/step - loss: 36.1115 - val_loss: 40.0719\n",
            "Epoch 196/300\n",
            "5/5 [==============================] - 0s 14ms/step - loss: 34.7083 - val_loss: 65.2182\n",
            "Epoch 197/300\n",
            "5/5 [==============================] - 0s 14ms/step - loss: 67.4321 - val_loss: 108.0051\n",
            "Epoch 198/300\n",
            "5/5 [==============================] - 0s 13ms/step - loss: 50.2087 - val_loss: 58.7739\n",
            "Epoch 199/300\n",
            "5/5 [==============================] - 0s 13ms/step - loss: 42.8914 - val_loss: 86.1646\n",
            "Epoch 200/300\n",
            "5/5 [==============================] - 0s 14ms/step - loss: 43.0605 - val_loss: 57.6083\n",
            "Epoch 201/300\n",
            "5/5 [==============================] - 0s 13ms/step - loss: 20.7342 - val_loss: 42.0248\n",
            "Epoch 202/300\n",
            "5/5 [==============================] - 0s 14ms/step - loss: 38.3230 - val_loss: 59.5053\n",
            "Epoch 203/300\n",
            "5/5 [==============================] - 0s 15ms/step - loss: 44.4282 - val_loss: 34.2829\n",
            "Epoch 204/300\n",
            "5/5 [==============================] - 0s 13ms/step - loss: 38.3791 - val_loss: 54.4498\n",
            "Epoch 205/300\n",
            "5/5 [==============================] - 0s 14ms/step - loss: 39.3540 - val_loss: 14.2699\n",
            "Epoch 206/300\n",
            "5/5 [==============================] - 0s 13ms/step - loss: 24.9418 - val_loss: 53.9962\n",
            "Epoch 207/300\n",
            "5/5 [==============================] - 0s 15ms/step - loss: 31.0393 - val_loss: 21.8994\n",
            "Epoch 208/300\n",
            "5/5 [==============================] - 0s 15ms/step - loss: 32.3214 - val_loss: 11.7684\n",
            "Epoch 209/300\n",
            "5/5 [==============================] - 0s 15ms/step - loss: 32.5471 - val_loss: 11.4386\n",
            "Epoch 210/300\n",
            "5/5 [==============================] - 0s 15ms/step - loss: 34.0422 - val_loss: 11.9828\n",
            "Epoch 211/300\n",
            "5/5 [==============================] - 0s 14ms/step - loss: 19.9404 - val_loss: 18.7033\n",
            "Epoch 212/300\n",
            "5/5 [==============================] - 0s 15ms/step - loss: 15.4723 - val_loss: 41.6527\n",
            "Epoch 213/300\n",
            "5/5 [==============================] - 0s 14ms/step - loss: 36.4632 - val_loss: 39.7801\n",
            "Epoch 214/300\n",
            "5/5 [==============================] - 0s 15ms/step - loss: 37.2040 - val_loss: 15.8326\n",
            "Epoch 215/300\n",
            "5/5 [==============================] - 0s 14ms/step - loss: 27.6875 - val_loss: 48.6220\n",
            "Epoch 216/300\n",
            "5/5 [==============================] - 0s 14ms/step - loss: 26.0605 - val_loss: 15.8595\n",
            "Epoch 217/300\n",
            "5/5 [==============================] - 0s 14ms/step - loss: 16.3484 - val_loss: 26.4848\n",
            "Epoch 218/300\n",
            "5/5 [==============================] - 0s 14ms/step - loss: 12.4508 - val_loss: 20.7711\n",
            "Epoch 219/300\n",
            "5/5 [==============================] - 0s 13ms/step - loss: 13.1041 - val_loss: 25.2140\n",
            "Epoch 220/300\n",
            "5/5 [==============================] - 0s 14ms/step - loss: 12.5818 - val_loss: 18.8401\n",
            "Epoch 221/300\n",
            "5/5 [==============================] - 0s 15ms/step - loss: 21.8180 - val_loss: 40.5619\n",
            "Epoch 222/300\n",
            "5/5 [==============================] - 0s 14ms/step - loss: 30.4331 - val_loss: 15.0791\n",
            "Epoch 223/300\n",
            "5/5 [==============================] - 0s 15ms/step - loss: 20.9804 - val_loss: 47.5014\n",
            "Epoch 224/300\n",
            "5/5 [==============================] - 0s 14ms/step - loss: 31.5349 - val_loss: 66.7298\n",
            "Epoch 225/300\n",
            "5/5 [==============================] - 0s 13ms/step - loss: 27.4746 - val_loss: 30.0473\n",
            "Epoch 226/300\n",
            "5/5 [==============================] - 0s 14ms/step - loss: 29.2811 - val_loss: 27.1564\n",
            "Epoch 227/300\n",
            "5/5 [==============================] - 0s 13ms/step - loss: 29.4034 - val_loss: 28.6380\n",
            "Epoch 228/300\n",
            "5/5 [==============================] - 0s 13ms/step - loss: 26.2289 - val_loss: 35.1757\n",
            "Epoch 229/300\n",
            "5/5 [==============================] - 0s 13ms/step - loss: 22.2313 - val_loss: 30.3725\n",
            "Epoch 230/300\n",
            "5/5 [==============================] - 0s 14ms/step - loss: 27.1675 - val_loss: 31.1606\n",
            "Epoch 231/300\n",
            "5/5 [==============================] - 0s 13ms/step - loss: 29.0544 - val_loss: 8.5783\n",
            "Epoch 232/300\n",
            "5/5 [==============================] - 0s 14ms/step - loss: 28.7220 - val_loss: 45.2741\n",
            "Epoch 233/300\n",
            "5/5 [==============================] - 0s 14ms/step - loss: 27.8583 - val_loss: 59.0064\n",
            "Epoch 234/300\n",
            "5/5 [==============================] - 0s 13ms/step - loss: 24.0166 - val_loss: 52.4641\n",
            "Epoch 235/300\n",
            "5/5 [==============================] - 0s 14ms/step - loss: 42.2981 - val_loss: 20.3653\n",
            "Epoch 236/300\n",
            "5/5 [==============================] - 0s 14ms/step - loss: 23.1460 - val_loss: 18.1865\n",
            "Epoch 237/300\n",
            "5/5 [==============================] - 0s 14ms/step - loss: 16.5048 - val_loss: 32.7443\n",
            "Epoch 238/300\n",
            "5/5 [==============================] - 0s 14ms/step - loss: 23.9686 - val_loss: 25.3568\n",
            "Epoch 239/300\n",
            "5/5 [==============================] - 0s 13ms/step - loss: 23.1927 - val_loss: 9.7959\n",
            "Epoch 240/300\n",
            "5/5 [==============================] - 0s 13ms/step - loss: 31.1713 - val_loss: 28.3304\n",
            "Epoch 241/300\n",
            "5/5 [==============================] - 0s 14ms/step - loss: 21.3424 - val_loss: 14.4011\n",
            "Epoch 242/300\n",
            "5/5 [==============================] - 0s 14ms/step - loss: 12.9299 - val_loss: 15.0582\n",
            "Epoch 243/300\n",
            "5/5 [==============================] - 0s 13ms/step - loss: 15.4988 - val_loss: 23.4071\n",
            "Epoch 244/300\n",
            "5/5 [==============================] - 0s 13ms/step - loss: 15.6934 - val_loss: 11.8892\n",
            "Epoch 245/300\n",
            "5/5 [==============================] - 0s 13ms/step - loss: 13.1172 - val_loss: 35.5922\n",
            "Epoch 246/300\n",
            "5/5 [==============================] - 0s 14ms/step - loss: 39.1169 - val_loss: 70.5974\n",
            "Epoch 247/300\n",
            "5/5 [==============================] - 0s 14ms/step - loss: 63.5032 - val_loss: 93.3601\n",
            "Epoch 248/300\n",
            "5/5 [==============================] - 0s 15ms/step - loss: 41.3626 - val_loss: 71.9881\n",
            "Epoch 249/300\n",
            "5/5 [==============================] - 0s 14ms/step - loss: 42.1122 - val_loss: 93.8767\n",
            "Epoch 250/300\n",
            "5/5 [==============================] - 0s 14ms/step - loss: 66.6014 - val_loss: 77.1004\n",
            "Epoch 251/300\n",
            "5/5 [==============================] - 0s 14ms/step - loss: 60.4742 - val_loss: 47.1196\n",
            "Epoch 252/300\n",
            "5/5 [==============================] - 0s 14ms/step - loss: 50.3101 - val_loss: 26.9693\n",
            "Epoch 253/300\n",
            "5/5 [==============================] - 0s 15ms/step - loss: 40.6503 - val_loss: 105.4897\n",
            "Epoch 254/300\n",
            "5/5 [==============================] - 0s 14ms/step - loss: 58.8211 - val_loss: 62.8095\n",
            "Epoch 255/300\n",
            "5/5 [==============================] - 0s 14ms/step - loss: 51.2259 - val_loss: 42.8393\n",
            "Epoch 256/300\n",
            "5/5 [==============================] - 0s 16ms/step - loss: 38.8471 - val_loss: 64.5729\n",
            "Epoch 257/300\n",
            "5/5 [==============================] - 0s 14ms/step - loss: 57.7584 - val_loss: 29.5473\n",
            "Epoch 258/300\n",
            "5/5 [==============================] - 0s 13ms/step - loss: 42.8195 - val_loss: 31.7757\n",
            "Epoch 259/300\n",
            "5/5 [==============================] - 0s 13ms/step - loss: 60.1911 - val_loss: 69.9174\n",
            "Epoch 260/300\n",
            "5/5 [==============================] - 0s 14ms/step - loss: 35.4405 - val_loss: 28.6360\n",
            "Epoch 261/300\n",
            "5/5 [==============================] - 0s 14ms/step - loss: 20.8513 - val_loss: 34.9364\n",
            "Epoch 262/300\n",
            "5/5 [==============================] - 0s 16ms/step - loss: 31.0554 - val_loss: 28.0877\n",
            "Epoch 263/300\n",
            "5/5 [==============================] - 0s 15ms/step - loss: 21.5511 - val_loss: 41.8778\n",
            "Epoch 264/300\n",
            "5/5 [==============================] - 0s 15ms/step - loss: 25.7788 - val_loss: 64.1538\n",
            "Epoch 265/300\n",
            "5/5 [==============================] - 0s 13ms/step - loss: 30.9688 - val_loss: 66.4686\n",
            "Epoch 266/300\n",
            "5/5 [==============================] - 0s 15ms/step - loss: 33.6835 - val_loss: 47.4206\n",
            "Epoch 267/300\n",
            "5/5 [==============================] - 0s 14ms/step - loss: 22.7402 - val_loss: 19.1976\n",
            "Epoch 268/300\n",
            "5/5 [==============================] - 0s 15ms/step - loss: 25.1672 - val_loss: 15.7640\n",
            "Epoch 269/300\n",
            "5/5 [==============================] - 0s 15ms/step - loss: 27.0901 - val_loss: 26.9863\n",
            "Epoch 270/300\n",
            "5/5 [==============================] - 0s 14ms/step - loss: 21.6895 - val_loss: 43.3302\n",
            "Epoch 271/300\n",
            "5/5 [==============================] - 0s 15ms/step - loss: 26.8575 - val_loss: 13.5629\n",
            "Epoch 272/300\n",
            "5/5 [==============================] - 0s 15ms/step - loss: 12.5412 - val_loss: 12.5839\n",
            "Epoch 273/300\n",
            "5/5 [==============================] - 0s 16ms/step - loss: 13.7068 - val_loss: 35.2201\n",
            "Epoch 274/300\n",
            "5/5 [==============================] - 0s 15ms/step - loss: 17.1331 - val_loss: 39.7569\n",
            "Epoch 275/300\n",
            "5/5 [==============================] - 0s 16ms/step - loss: 34.2634 - val_loss: 17.9075\n",
            "Epoch 276/300\n",
            "5/5 [==============================] - 0s 15ms/step - loss: 18.5075 - val_loss: 41.2277\n",
            "Epoch 277/300\n",
            "5/5 [==============================] - 0s 14ms/step - loss: 27.5589 - val_loss: 28.0568\n",
            "Epoch 278/300\n",
            "5/5 [==============================] - 0s 14ms/step - loss: 20.7024 - val_loss: 31.9316\n",
            "Epoch 279/300\n",
            "5/5 [==============================] - 0s 15ms/step - loss: 27.4332 - val_loss: 10.3413\n",
            "Epoch 280/300\n",
            "5/5 [==============================] - 0s 16ms/step - loss: 18.6835 - val_loss: 67.8793\n",
            "Epoch 281/300\n",
            "5/5 [==============================] - 0s 14ms/step - loss: 48.1703 - val_loss: 32.1096\n",
            "Epoch 282/300\n",
            "5/5 [==============================] - 0s 15ms/step - loss: 47.8741 - val_loss: 64.0346\n",
            "Epoch 283/300\n",
            "5/5 [==============================] - 0s 14ms/step - loss: 41.8167 - val_loss: 35.9056\n",
            "Epoch 284/300\n",
            "5/5 [==============================] - 0s 15ms/step - loss: 26.9374 - val_loss: 15.0887\n",
            "Epoch 285/300\n",
            "5/5 [==============================] - 0s 15ms/step - loss: 13.4452 - val_loss: 18.0096\n",
            "Epoch 286/300\n",
            "5/5 [==============================] - 0s 14ms/step - loss: 26.7574 - val_loss: 12.3892\n",
            "Epoch 287/300\n",
            "5/5 [==============================] - 0s 15ms/step - loss: 15.4818 - val_loss: 11.2025\n",
            "Epoch 288/300\n",
            "5/5 [==============================] - 0s 15ms/step - loss: 27.3902 - val_loss: 46.5500\n",
            "Epoch 289/300\n",
            "5/5 [==============================] - 0s 14ms/step - loss: 27.9852 - val_loss: 32.3126\n",
            "Epoch 290/300\n",
            "5/5 [==============================] - 0s 14ms/step - loss: 27.4963 - val_loss: 9.3239\n",
            "Epoch 291/300\n",
            "5/5 [==============================] - 0s 14ms/step - loss: 19.2990 - val_loss: 10.3792\n",
            "Epoch 292/300\n",
            "5/5 [==============================] - 0s 14ms/step - loss: 21.4622 - val_loss: 44.1455\n",
            "Epoch 293/300\n",
            "5/5 [==============================] - 0s 15ms/step - loss: 25.9921 - val_loss: 25.3161\n",
            "Epoch 294/300\n",
            "5/5 [==============================] - 0s 14ms/step - loss: 20.6912 - val_loss: 29.5566\n",
            "Epoch 295/300\n",
            "5/5 [==============================] - 0s 14ms/step - loss: 26.3901 - val_loss: 16.1123\n",
            "Epoch 296/300\n",
            "5/5 [==============================] - 0s 15ms/step - loss: 15.8830 - val_loss: 9.7756\n",
            "Epoch 297/300\n",
            "5/5 [==============================] - 0s 14ms/step - loss: 10.8932 - val_loss: 19.3966\n",
            "Epoch 298/300\n",
            "5/5 [==============================] - 0s 15ms/step - loss: 14.4136 - val_loss: 11.8152\n",
            "Epoch 299/300\n",
            "5/5 [==============================] - 0s 14ms/step - loss: 12.7635 - val_loss: 15.0996\n",
            "Epoch 300/300\n",
            "5/5 [==============================] - 0s 14ms/step - loss: 12.9944 - val_loss: 33.6627\n"
          ]
        }
      ]
    },
    {
      "cell_type": "code",
      "source": [
        "model.evaluate(x,y)"
      ],
      "metadata": {
        "colab": {
          "base_uri": "https://localhost:8080/"
        },
        "id": "KeoJ7jUCXWtR",
        "outputId": "02a140f4-08f0-45b0-ff93-841acf3b02aa"
      },
      "execution_count": 12,
      "outputs": [
        {
          "output_type": "stream",
          "name": "stdout",
          "text": [
            "5/5 [==============================] - 0s 35ms/step - loss: 23.4626\n"
          ]
        },
        {
          "output_type": "execute_result",
          "data": {
            "text/plain": [
              "23.46262550354004"
            ]
          },
          "metadata": {},
          "execution_count": 12
        }
      ]
    },
    {
      "cell_type": "code",
      "source": [
        "plt.plot(history.history['loss'], label='Training loss')\n",
        "plt.plot(history.history['val_loss'], label='Validation loss')\n",
        "plt.legend()"
      ],
      "metadata": {
        "colab": {
          "base_uri": "https://localhost:8080/",
          "height": 282
        },
        "id": "peFv-L8rXuxN",
        "outputId": "abab4fe3-2ee4-4f9b-f91f-9fbd15643e03"
      },
      "execution_count": 13,
      "outputs": [
        {
          "output_type": "execute_result",
          "data": {
            "text/plain": [
              "<matplotlib.legend.Legend at 0x7f73903b1690>"
            ]
          },
          "metadata": {},
          "execution_count": 13
        },
        {
          "output_type": "display_data",
          "data": {
            "text/plain": [
              "<Figure size 432x288 with 1 Axes>"
            ],
            "image/png": "[encoded data removed]"
          },
          "metadata": {
            "needs_background": "light"
          }
        }
      ]
    },
    {
      "cell_type": "markdown",
      "metadata": {
        "id": "CDtjBtPQf1pd"
      },
      "source": [
        "### Prediction with TCN Model"
      ]
    },
    {
      "cell_type": "code",
      "metadata": {
        "id": "SMEjd-8Gd-VK"
      },
      "source": [
        "predict = model.predict(x)"
      ],
      "execution_count": 14,
      "outputs": []
    },
    {
      "cell_type": "markdown",
      "source": [
        "##Results"
      ],
      "metadata": {
        "id": "tTf2pGj6W_GO"
      }
    },
    {
      "cell_type": "code",
      "metadata": {
        "id": "x9EpeosteOkK",
        "colab": {
          "base_uri": "https://localhost:8080/",
          "height": 458
        },
        "outputId": "877f7875-4951-4628-ba17-85a57732a29a"
      },
      "source": [
        "plt.figure(figsize = (15,7))\n",
        "plt.plot(predict)\n",
        "plt.plot(y)\n",
        "plt.title('Monthly Milk Production (in pounds)')\n",
        "plt.legend(['predicted', 'actual'])\n",
        "plt.xlabel(\"Moths Counts\")\n",
        "plt.ylabel(\"Milk Production in Pounds\")\n",
        "plt.show()"
      ],
      "execution_count": 15,
      "outputs": [
        {
          "output_type": "display_data",
          "data": {
            "text/plain": [
              "<Figure size 1080x504 with 1 Axes>"
            ],
            "image/png": "[encoded data removed]"
          },
          "metadata": {
            "needs_background": "light"
          }
        }
      ]
    }
  ]
}